{
 "cells": [
  {
   "cell_type": "code",
   "execution_count": 2,
   "metadata": {},
   "outputs": [],
   "source": [
    "def line_solver(x_1, y_1, x_2, y_2):\n",
    "    m = (y_2 - y_1) / (x_2 - x_1)\n",
    "    c = y_1 - m * x_1\n",
    "    return m, c\n",
    "    "
   ]
  },
  {
   "cell_type": "code",
   "execution_count": 6,
   "metadata": {},
   "outputs": [],
   "source": [
    "august_prev = line_solver(73.76, 21.75, 74.68, 0)\n",
    "sept_prev = line_solver(73.76, 15.8,74.68,0)\n",
    "may_prev = line_solver(73.76, 8.75,74.68,0)\n",
    "oct_prev = line_solver(73.76, 7.5,74.68,0)\n",
    "april_prev = line_solver(73.76, 3.75,74.68,0)\n",
    "nov_prev = line_solver(73.76, 2.5,74.68,0)\n",
    "june_prev = may_prev\n",
    "july_prev = august_prev\n",
    "\n",
    "august_after = line_solver(75.35, 0, 75.9, 6.7)\n",
    "sept_after = line_solver(75.35, 0,75.9, 5)\n",
    "oct_after = line_solver(75.35, 0,75.9, 2.5)\n",
    "may_after = line_solver(75.35, 0,75.9, 2.5)\n",
    "april_after = line_solver(75.35, 0,75.9, 1)\n",
    "nov_after = line_solver(75.35, 0,75.9, 1)\n",
    "june_after = may_after\n",
    "july_after = august_after"
   ]
  },
  {
   "cell_type": "code",
   "execution_count": 8,
   "metadata": {},
   "outputs": [],
   "source": [
    "# assume june = may, july = august\n",
    "\n",
    "def econ_lost(water_level, time):\n",
    "    if time in [1, 2, 3, 12]:\n",
    "        return 0\n",
    "    if time == 8 or time == 7:\n",
    "        if water_level < 74.68:\n",
    "            return (water_level) * august_prev[0]+august_prev[1]\n",
    "        elif water_level > 75.35:\n",
    "            return (water_level) * august_after[0]+august_after[1]\n",
    "        else:\n",
    "            return 0\n",
    "    if time == 9:\n",
    "        if water_level < 74.68:\n",
    "            return (water_level) * sept_prev[0]+sept_prev[1]\n",
    "        elif water_level > 75.35:\n",
    "            return (water_level) * sept_after[0]+sept_after[1]\n",
    "        else:\n",
    "            return 0\n",
    "    if time == 10:\n",
    "        if water_level < 74.68:\n",
    "            return (water_level) * oct_prev[0]+oct_prev[1]\n",
    "        elif water_level > 75.35:\n",
    "            return (water_level) * oct_after[0]+oct_after[1]\n",
    "        else:\n",
    "            return 0\n",
    "    if time == 5 or time == 6:\n",
    "        if water_level < 74.68:\n",
    "            return (water_level) * may_prev[0]+may_prev[1]\n",
    "        elif water_level > 75.35:\n",
    "            return (water_level) * may_after[0]+may_after[1]\n",
    "        else:\n",
    "            return 0\n",
    "    if time == 4:\n",
    "        if water_level < 74.68:\n",
    "            return (water_level) * april_prev[0]+april_prev[1]\n",
    "        elif water_level > 75.35:\n",
    "            return (water_level) * april_after[0]+april_after[1]\n",
    "        else:\n",
    "            return 0\n",
    "    if time == 11:\n",
    "        if water_level < 74.68:\n",
    "            return (water_level) * nov_prev[0]+nov_prev[1]\n",
    "        elif water_level > 75.35:\n",
    "            return (water_level) * nov_after[0]+nov_after[1]\n",
    "        else:\n",
    "            return 0\n",
    "\n",
    "    "
   ]
  },
  {
   "cell_type": "code",
   "execution_count": 10,
   "metadata": {},
   "outputs": [
    {
     "data": {
      "text/plain": [
       "39.717391304347984"
      ]
     },
     "execution_count": 10,
     "metadata": {},
     "output_type": "execute_result"
    }
   ],
   "source": [
    "-econ_lost(73, 8) # 0"
   ]
  },
  {
   "cell_type": "code",
   "execution_count": null,
   "metadata": {},
   "outputs": [],
   "source": []
  }
 ],
 "metadata": {
  "kernelspec": {
   "display_name": "research",
   "language": "python",
   "name": "python3"
  },
  "language_info": {
   "codemirror_mode": {
    "name": "ipython",
    "version": 3
   },
   "file_extension": ".py",
   "mimetype": "text/x-python",
   "name": "python",
   "nbconvert_exporter": "python",
   "pygments_lexer": "ipython3",
   "version": "3.9.6"
  }
 },
 "nbformat": 4,
 "nbformat_minor": 2
}
