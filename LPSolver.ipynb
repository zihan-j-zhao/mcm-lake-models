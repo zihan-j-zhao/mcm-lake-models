{
  "nbformat": 4,
  "nbformat_minor": 0,
  "metadata": {
    "colab": {
      "provenance": [],
      "gpuType": "T4"
    },
    "kernelspec": {
      "name": "python3",
      "display_name": "Python 3"
    },
    "language_info": {
      "name": "python"
    },
    "accelerator": "GPU"
  },
  "cells": [
    {
      "cell_type": "code",
      "execution_count": null,
      "metadata": {
        "colab": {
          "base_uri": "https://localhost:8080/"
        },
        "id": "EpZP407OjQvM",
        "outputId": "032572ac-af92-4c76-d848-b3b9cd0440df"
      },
      "outputs": [
        {
          "output_type": "stream",
          "name": "stdout",
          "text": [
            "Collecting ortools\n",
            "  Downloading ortools-9.8.3296-cp310-cp310-manylinux_2_17_x86_64.manylinux2014_x86_64.whl (22.9 MB)\n",
            "\u001b[2K     \u001b[90m━━━━━━━━━━━━━━━━━━━━━━━━━━━━━━━━━━━━━━━━\u001b[0m \u001b[32m22.9/22.9 MB\u001b[0m \u001b[31m19.6 MB/s\u001b[0m eta \u001b[36m0:00:00\u001b[0m\n",
            "\u001b[?25hCollecting absl-py>=2.0.0 (from ortools)\n",
            "  Downloading absl_py-2.1.0-py3-none-any.whl (133 kB)\n",
            "\u001b[2K     \u001b[90m━━━━━━━━━━━━━━━━━━━━━━━━━━━━━━━━━━━━━━━━\u001b[0m \u001b[32m133.7/133.7 kB\u001b[0m \u001b[31m17.6 MB/s\u001b[0m eta \u001b[36m0:00:00\u001b[0m\n",
            "\u001b[?25hRequirement already satisfied: numpy>=1.13.3 in /usr/local/lib/python3.10/dist-packages (from ortools) (1.23.5)\n",
            "Collecting pandas>=2.0.0 (from ortools)\n",
            "  Downloading pandas-2.2.0-cp310-cp310-manylinux_2_17_x86_64.manylinux2014_x86_64.whl (13.0 MB)\n",
            "\u001b[2K     \u001b[90m━━━━━━━━━━━━━━━━━━━━━━━━━━━━━━━━━━━━━━━━\u001b[0m \u001b[32m13.0/13.0 MB\u001b[0m \u001b[31m62.5 MB/s\u001b[0m eta \u001b[36m0:00:00\u001b[0m\n",
            "\u001b[?25hCollecting protobuf>=4.25.0 (from ortools)\n",
            "  Downloading protobuf-4.25.2-cp37-abi3-manylinux2014_x86_64.whl (294 kB)\n",
            "\u001b[2K     \u001b[90m━━━━━━━━━━━━━━━━━━━━━━━━━━━━━━━━━━━━━━━━\u001b[0m \u001b[32m294.6/294.6 kB\u001b[0m \u001b[31m22.5 MB/s\u001b[0m eta \u001b[36m0:00:00\u001b[0m\n",
            "\u001b[?25hRequirement already satisfied: python-dateutil>=2.8.2 in /usr/local/lib/python3.10/dist-packages (from pandas>=2.0.0->ortools) (2.8.2)\n",
            "Requirement already satisfied: pytz>=2020.1 in /usr/local/lib/python3.10/dist-packages (from pandas>=2.0.0->ortools) (2023.4)\n",
            "Collecting tzdata>=2022.7 (from pandas>=2.0.0->ortools)\n",
            "  Downloading tzdata-2023.4-py2.py3-none-any.whl (346 kB)\n",
            "\u001b[2K     \u001b[90m━━━━━━━━━━━━━━━━━━━━━━━━━━━━━━━━━━━━━━━━\u001b[0m \u001b[32m346.6/346.6 kB\u001b[0m \u001b[31m36.5 MB/s\u001b[0m eta \u001b[36m0:00:00\u001b[0m\n",
            "\u001b[?25hRequirement already satisfied: six>=1.5 in /usr/local/lib/python3.10/dist-packages (from python-dateutil>=2.8.2->pandas>=2.0.0->ortools) (1.16.0)\n",
            "Installing collected packages: tzdata, protobuf, absl-py, pandas, ortools\n",
            "  Attempting uninstall: protobuf\n",
            "    Found existing installation: protobuf 3.20.3\n",
            "    Uninstalling protobuf-3.20.3:\n",
            "      Successfully uninstalled protobuf-3.20.3\n",
            "  Attempting uninstall: absl-py\n",
            "    Found existing installation: absl-py 1.4.0\n",
            "    Uninstalling absl-py-1.4.0:\n",
            "      Successfully uninstalled absl-py-1.4.0\n",
            "  Attempting uninstall: pandas\n",
            "    Found existing installation: pandas 1.5.3\n",
            "    Uninstalling pandas-1.5.3:\n",
            "      Successfully uninstalled pandas-1.5.3\n",
            "\u001b[31mERROR: pip's dependency resolver does not currently take into account all the packages that are installed. This behaviour is the source of the following dependency conflicts.\n",
            "lida 0.0.10 requires fastapi, which is not installed.\n",
            "lida 0.0.10 requires kaleido, which is not installed.\n",
            "lida 0.0.10 requires python-multipart, which is not installed.\n",
            "lida 0.0.10 requires uvicorn, which is not installed.\n",
            "bigframes 0.20.0 requires pandas<2.1.4,>=1.5.0, but you have pandas 2.2.0 which is incompatible.\n",
            "google-colab 1.0.0 requires pandas==1.5.3, but you have pandas 2.2.0 which is incompatible.\n",
            "tensorboard 2.15.1 requires protobuf<4.24,>=3.19.6, but you have protobuf 4.25.2 which is incompatible.\n",
            "tensorflow-metadata 1.14.0 requires absl-py<2.0.0,>=0.9, but you have absl-py 2.1.0 which is incompatible.\n",
            "tensorflow-metadata 1.14.0 requires protobuf<4.21,>=3.20.3, but you have protobuf 4.25.2 which is incompatible.\u001b[0m\u001b[31m\n",
            "\u001b[0mSuccessfully installed absl-py-2.1.0 ortools-9.8.3296 pandas-2.2.0 protobuf-4.25.2 tzdata-2023.4\n"
          ]
        }
      ],
      "source": [
        "!pip install ortools"
      ]
    },
    {
      "cell_type": "code",
      "source": [
        "from ortools.linear_solver import pywraplp\n",
        "import pandas as pd\n",
        "import numpy as np\n",
        "import matplotlib.pyplot as plt\n",
        "from pandas.tseries.offsets import DateOffset\n",
        "import random as rand"
      ],
      "metadata": {
        "id": "AuETauhzjclR"
      },
      "execution_count": null,
      "outputs": []
    },
    {
      "cell_type": "markdown",
      "source": [
        "# Functions that produce a value of satisfaction of stakeholders"
      ],
      "metadata": {
        "id": "iO3-yfuGIwGk"
      }
    },
    {
      "cell_type": "code",
      "source": [
        "# 75.5  threshold for still water to flood along the South shoreline of Lake Ontario\n",
        "# 74.4-75.45 preferred boating range"
      ],
      "metadata": {
        "id": "4nk1tSBSHRCD"
      },
      "execution_count": null,
      "outputs": []
    },
    {
      "cell_type": "code",
      "source": [
        "def line_solver(x_1, y_1, x_2, y_2):\n",
        "    m = (y_2 - y_1) / (x_2 - x_1)\n",
        "    return m"
      ],
      "metadata": {
        "id": "5ycRqtl_rh1y"
      },
      "execution_count": null,
      "outputs": []
    },
    {
      "cell_type": "code",
      "source": [
        "august_prev = line_solver(73.76, 21.75, 74.68, 0.0)\n",
        "sept_prev = line_solver(73.76, 15.8,74.68,0.0)\n",
        "may_prev = line_solver(73.76, 8.75,74.68,0.0)\n",
        "oct_prev = line_solver(73.76, 7.5,74.68,0.0)\n",
        "april_prev = line_solver(73.76, 3.75,74.68,0.0)\n",
        "nov_prev = line_solver(73.76, 2.5,74.68,0.0)\n",
        "june_prev = may_prev\n",
        "july_prev = august_prev\n",
        "\n",
        "august_after = line_solver(75.35, 0.0, 75.9, 6.7)\n",
        "sept_after = line_solver(75.35, 0.0,75.9, 5)\n",
        "oct_after = line_solver(75.35, 0.0,75.9, 2.5)\n",
        "may_after = line_solver(75.35, 0.0,75.9, 2.5)\n",
        "april_after = line_solver(75.35, 0.0,75.9, 1.0)\n",
        "nov_after = line_solver(75.35, 0.0,75.9, 1.0)\n",
        "june_after = may_after\n",
        "july_after = august_after\n",
        "print((74.68 - 75) * august_prev+(75.35-75)*august_after)\n"
      ],
      "metadata": {
        "colab": {
          "base_uri": "https://localhost:8080/"
        },
        "id": "mU0Rhcurriyj",
        "outputId": "88250362-6cde-4764-d9a6-4cf905eca3a0"
      },
      "execution_count": null,
      "outputs": [
        {
          "output_type": "stream",
          "name": "stdout",
          "text": [
            "11.82885375494038\n"
          ]
        }
      ]
    },
    {
      "cell_type": "code",
      "source": [
        "def house_owner1(wl):\n",
        "  return (75.5 - wl) * 10\n",
        "def house_owner2(wl):\n",
        "  return (wl - 73.5) * 7"
      ],
      "metadata": {
        "id": "E6QDxlPOCNU9"
      },
      "execution_count": null,
      "outputs": []
    },
    {
      "cell_type": "code",
      "source": [
        "# different months can have different factors\n",
        "# fcts = np.arange(7.0, 10.0, 0.5).tolist() + np.arange(, 10.7, 0.1).tolist()\n",
        "# print(len(fcts))\n",
        "# def boating_1(wl, month):\n",
        "#   return (75 - wl) * fcts[month - 1]\n",
        "# def boating_2(wl, month):\n",
        "#   return (wl - 74) * fcts[month - 1]"
      ],
      "metadata": {
        "id": "cLammQBQCln6"
      },
      "execution_count": null,
      "outputs": []
    },
    {
      "cell_type": "code",
      "source": [
        "def boating_1(wl, month):\n",
        "  if month == 8:\n",
        "    return (74.68 - wl) * august_prev\n",
        "  if month == 9:\n",
        "    return (74.68 - wl) * sept_prev\n",
        "  if month == 10:\n",
        "    return (74.68 - wl) * oct_prev\n",
        "  if month == 5:\n",
        "    return (74.68 - wl) * may_prev\n",
        "  if month == 4:\n",
        "    return (74.68 - wl) * april_prev\n",
        "  if month == 11:\n",
        "    return (74.68 - wl) * nov_prev\n",
        "  if month == 6:\n",
        "    return (74.68 - wl) * june_prev\n",
        "  if month == 7:\n",
        "    return (74.68 - wl) * july_prev\n",
        "  return (74.68 - wl) * 10\n",
        "\n",
        "\n",
        "def boating_2(wl, month):\n",
        "  if month == 8:\n",
        "    return (75.35 - wl) * august_after\n",
        "  if month == 9:\n",
        "    return (75.35 - wl) * sept_after\n",
        "  if month == 10:\n",
        "    return (75.35 - wl) * oct_after\n",
        "  if month == 5:\n",
        "    return (75.35 - wl) * may_after\n",
        "  if month == 4:\n",
        "    return (75.35 - wl) * april_after\n",
        "  if month == 11:\n",
        "    return (75.35 - wl) * nov_after\n",
        "  if month == 6:\n",
        "    return (75.35 - wl) * june_after\n",
        "  if month == 7:\n",
        "    return (75.35 - wl) * july_after\n",
        "  return (75.35 - wl) * 10"
      ],
      "metadata": {
        "id": "oEWJ4Gzwrxxo"
      },
      "execution_count": null,
      "outputs": []
    },
    {
      "cell_type": "code",
      "source": [
        "a = boating_1(75, 4)\n",
        "print(a)"
      ],
      "metadata": {
        "colab": {
          "base_uri": "https://localhost:8080/"
        },
        "id": "bUptpe4vtPSJ",
        "outputId": "d86f40d8-e5f3-46e3-ead0-8a1eb35bd256"
      },
      "execution_count": null,
      "outputs": [
        {
          "output_type": "stream",
          "name": "stdout",
          "text": [
            "1.3043478260869261\n"
          ]
        }
      ]
    },
    {
      "cell_type": "code",
      "source": [
        "power_cap = (912.0 + 1045.0) * 10.0\n",
        "Q_arr = []\n",
        "def hydropower(wl, month):\n",
        "  Q = 0.104 # Can be predicted by month\n",
        "  g = 9.8\n",
        "  return 0.9 * Q * g * (wl - 75.3)"
      ],
      "metadata": {
        "id": "PHj6mB57JN9I"
      },
      "execution_count": null,
      "outputs": []
    },
    {
      "cell_type": "code",
      "source": [
        "def navigation(wl):\n",
        "\n",
        "  return (wl - 74.8) * 10"
      ],
      "metadata": {
        "id": "iQ9nfk7FJ0jj"
      },
      "execution_count": null,
      "outputs": []
    },
    {
      "cell_type": "code",
      "source": [
        "def envir(wl, month):\n",
        "  return 0"
      ],
      "metadata": {
        "id": "8XY9HxpcJSAT"
      },
      "execution_count": null,
      "outputs": []
    },
    {
      "cell_type": "code",
      "source": [
        "months = [i + 1 for i in range(12)]"
      ],
      "metadata": {
        "id": "4idRym82Nr1F"
      },
      "execution_count": null,
      "outputs": []
    },
    {
      "cell_type": "code",
      "source": [
        "from scipy.ndimage.filters import gaussian_filter1d"
      ],
      "metadata": {
        "colab": {
          "base_uri": "https://localhost:8080/"
        },
        "id": "hB-MLRujvzvg",
        "outputId": "4eb9bf42-b1a5-495b-f3cf-d10b2b92f867"
      },
      "execution_count": null,
      "outputs": [
        {
          "output_type": "stream",
          "name": "stderr",
          "text": [
            "<ipython-input-27-4acf63f28833>:1: DeprecationWarning: Please use `gaussian_filter1d` from the `scipy.ndimage` namespace, the `scipy.ndimage.filters` namespace is deprecated.\n",
            "  from scipy.ndimage.filters import gaussian_filter1d\n"
          ]
        }
      ]
    },
    {
      "cell_type": "code",
      "source": [
        "# Constants in the constraints can be replaced by functions in the previous section\n",
        "\n",
        "def Optwl(months):\n",
        "  z_arr = []\n",
        "  sol = []\n",
        "  for month in months:\n",
        "      \"\"\"Linear programming sample.\"\"\"\n",
        "      # Instantiate a Glop solver, naming it LinearExample.\n",
        "      solver = pywraplp.Solver.CreateSolver(\"GLOP\")\n",
        "      if not solver:\n",
        "          return\n",
        "\n",
        "      # Water level\n",
        "      wl = solver.NumVar(0, solver.infinity(), \"water level\")\n",
        "      # y = solver.NumVar(0, solver.infinity(), \"y\")\n",
        "\n",
        "      # print(\"Number of variables =\", solver.NumVariables())\n",
        "\n",
        "      # Constraints of water level:\n",
        "      solver.Add(wl >= 74.0)\n",
        "      solver.Add(wl <= 76.0)\n",
        "\n",
        "      # Constraints of house owners:\n",
        "      solver.Add(house_owner1(wl) >= -1.0)\n",
        "      solver.Add(house_owner2(wl) >= -10)\n",
        "      print(month)\n",
        "      # Constraints of boaters:\n",
        "      # solver.Add(boating_1(wl, month) <= 7)\n",
        "      # solver.Add(boating_2(wl, month) <= 7)\n",
        "\n",
        "      # Constraints of hydropower stations:\n",
        "      solver.Add(hydropower(wl, 1) <= power_cap)\n",
        "      # solver.Add(hydropower(wl, 1) >= 30)\n",
        "\n",
        "      # Constraints of shipping:\n",
        "      solver.Add(navigation(wl) >= -7)\n",
        "\n",
        "      # print(\"Number of constraints =\", solver.NumConstraints())\n",
        "\n",
        "      # Objective function:\n",
        "      solver.Maximize(0.3 * house_owner1(wl) + 0.1 * house_owner2(wl) + 0.3 * hydropower(wl, 1) + 0.2 * navigation(wl) + 0.1 * (boating_1(wl, month) + boating_2(wl, month)))\n",
        "\n",
        "      # Solve the system.\n",
        "      # print(f\"Solving with {solver.SolverVersion()}\")\n",
        "      status = solver.Solve()\n",
        "\n",
        "      if status == pywraplp.Solver.OPTIMAL:\n",
        "          # print(\"Solution:\")\n",
        "          # print(f\"Objective value = {solver.Objective().Value()}\")\n",
        "          # print(f\"Water level = {wl.solution_value()}m\")\n",
        "          #print(f\"y = {y.solution_value()}\")\n",
        "          z_arr.append(solver.Objective().Value())\n",
        "          sol.append(wl.solution_value())\n",
        "      else:\n",
        "          print(\"The problem does not have an optimal solution.\")\n",
        "          continue\n",
        "  print(f'Objective values: {z_arr}')\n",
        "  # sol = [x + rand.uniform(0, 0.2) for x in sol]\n",
        "  sol = gaussian_filter1d(sol, sigma=1.2)\n",
        "  print(f'Water levels: {sol}')\n",
        "    # print(\"\\nAdvanced usage:\")\n",
        "    # print(f\"Problem solved in {solver.wall_time():d} milliseconds\")\n",
        "    # print(f\"Problem solved in {solver.iterations():d} iterations\")\n",
        "  return z_arr, sol"
      ],
      "metadata": {
        "id": "jV4sWYEt4gyt"
      },
      "execution_count": null,
      "outputs": []
    },
    {
      "cell_type": "code",
      "source": [
        "z_arr, sol = Optwl(months)"
      ],
      "metadata": {
        "colab": {
          "base_uri": "https://localhost:8080/"
        },
        "id": "QgM-lznG4pnj",
        "outputId": "4c5b7f94-50ed-4e1b-f184-db628642e137"
      },
      "execution_count": null,
      "outputs": [
        {
          "output_type": "stream",
          "name": "stdout",
          "text": [
            "1\n",
            "2\n",
            "3\n",
            "4\n",
            "5\n",
            "6\n",
            "7\n",
            "8\n",
            "9\n",
            "10\n",
            "11\n",
            "12\n",
            "Objective values: [4.719779200000033, 4.719779200000033, 4.719779200000033, 3.182100654545467, 3.613918836363638, 3.613918836363638, 4.723009745454519, 4.723009745454519, 4.205282472727262, 3.4889188363636485, 3.0571006545454686, 4.719779200000033]\n",
            "Water levels: [74.12593555 74.24835443 74.60066045 75.09933955 75.45173028 75.57607701\n",
            " 75.59790274 75.59790274 75.57616172 75.45374283 75.12326254 74.74893017]\n"
          ]
        }
      ]
    },
    {
      "cell_type": "code",
      "source": [
        "plt.plot(months, sol)\n",
        "plt.title('Optimal water level for each month')\n",
        "plt.xlabel('Months')\n",
        "plt.ylabel('Water level (m)')\n",
        "plt.show()"
      ],
      "metadata": {
        "colab": {
          "base_uri": "https://localhost:8080/",
          "height": 472
        },
        "id": "dWx1Q_jWvlij",
        "outputId": "163de646-3cce-42af-8d34-81608c5a85ad"
      },
      "execution_count": null,
      "outputs": [
        {
          "output_type": "display_data",
          "data": {
            "text/plain": [
              "<Figure size 640x480 with 1 Axes>"
            ],
            "image/png": "[encoded data removed]"
          },
          "metadata": {}
        }
      ]
    }
  ]
}