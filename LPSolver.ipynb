{
  "cells": [
    {
      "cell_type": "code",
      "execution_count": 2,
      "metadata": {
        "id": "AuETauhzjclR"
      },
      "outputs": [],
      "source": [
        "from ortools.linear_solver import pywraplp\n",
        "import pandas as pd\n",
        "import numpy as np\n",
        "import matplotlib.pyplot as plt\n",
        "from pandas.tseries.offsets import DateOffset"
      ]
    },
    {
      "cell_type": "markdown",
      "metadata": {
        "id": "iO3-yfuGIwGk"
      },
      "source": [
        "# Functions that produce a value of satisfaction of stakeholders"
      ]
    },
    {
      "cell_type": "code",
      "execution_count": 3,
      "metadata": {
        "id": "4nk1tSBSHRCD"
      },
      "outputs": [],
      "source": [
        "def line_solver(x_1, y_1, x_2, y_2):\n",
        "    m = (y_2 - y_1) / (x_2 - x_1)\n",
        "    c = y_1 - m * x_1\n",
        "    return m, c\n",
        "    "
      ]
    },
    {
      "cell_type": "code",
      "execution_count": 4,
      "metadata": {},
      "outputs": [],
      "source": [
        "august_prev = line_solver(73.76, 21.75, 74.68, 0)\n",
        "sept_prev = line_solver(73.76, 15.8,74.68,0)\n",
        "may_prev = line_solver(73.76, 8.75,74.68,0)\n",
        "oct_prev = line_solver(73.76, 7.5,74.68,0)\n",
        "april_prev = line_solver(73.76, 3.75,74.68,0)\n",
        "nov_prev = line_solver(73.76, 2.5,74.68,0)\n",
        "june_prev = may_prev\n",
        "july_prev = august_prev\n",
        "\n",
        "august_after = line_solver(75.35, 0, 75.9, 6.7)\n",
        "sept_after = line_solver(75.35, 0,75.9, 5)\n",
        "oct_after = line_solver(75.35, 0,75.9, 2.5)\n",
        "may_after = line_solver(75.35, 0,75.9, 2.5)\n",
        "april_after = line_solver(75.35, 0,75.9, 1)\n",
        "nov_after = line_solver(75.35, 0,75.9, 1)\n",
        "june_after = may_after\n",
        "july_after = august_after"
      ]
    },
    {
      "cell_type": "code",
      "execution_count": 5,
      "metadata": {},
      "outputs": [
        {
          "name": "stdout",
          "output_type": "stream",
          "text": [
            "(-23.641304347826043, 1765.532608695649) (12.181818181817931, -917.899999999981)\n"
          ]
        }
      ],
      "source": [
        "print(august_prev, august_after)"
      ]
    },
    {
      "cell_type": "code",
      "execution_count": 148,
      "metadata": {
        "id": "E6QDxlPOCNU9"
      },
      "outputs": [],
      "source": [
        "def house_owner1(wl, months):\n",
        "  if months == 8:\n",
        "    return (74.68 - wl) * august_prev[0]\n",
        "  if months == 9:\n",
        "    return (74.68 - wl) * sept_prev[0]\n",
        "  if months == 10:\n",
        "    return (74.68 - wl) * oct_prev[0]\n",
        "  if months == 5:\n",
        "    return (74.68 - wl) * may_prev[0]\n",
        "  if months == 4:\n",
        "    return (74.68 - wl) * april_prev[0]\n",
        "  if months == 11:\n",
        "    return (74.68 - wl) * nov_prev[0]\n",
        "  if months == 6:\n",
        "    return (74.68 - wl) * june_prev[0]\n",
        "  if months == 7:\n",
        "    return (74.68 - wl) * july_prev[0]\n",
        "  \n",
        "def house_owner2(wl, months):\n",
        "  if months == 8: \n",
        "    return (75.35 - wl) * august_after[0]\n",
        "  if months == 9:\n",
        "    return (75.35 - wl) * sept_after[0]\n",
        "  if months == 10:\n",
        "    return (75.35 - wl) * oct_after[0]\n",
        "  if months == 5:\n",
        "    return (75.35 - wl) * may_after[0]\n",
        "  if months == 4:\n",
        "    return (75.35 - wl) * april_after[0]\n",
        "  if months == 11:\n",
        "    return (75.35 - wl) * nov_after[0]\n",
        "  if months == 6:\n",
        "    return (75.35 - wl) * june_after[0]\n",
        "  if months == 7:\n",
        "    return (75.35 - wl) * july_after[0]\n"
      ]
    },
    {
      "cell_type": "code",
      "execution_count": null,
      "metadata": {},
      "outputs": [],
      "source": [
        "# replace the original linear funciton \n"
      ]
    },
    {
      "cell_type": "code",
      "execution_count": 107,
      "metadata": {
        "id": "cLammQBQCln6"
      },
      "outputs": [],
      "source": [
        "# different months can have different factors\n",
        "def boating_1(wl):\n",
        "  return (75 - wl) * 10\n",
        "def boating_2(wl):\n",
        "  return (wl - 74) * 10"
      ]
    },
    {
      "cell_type": "code",
      "execution_count": 155,
      "metadata": {
        "colab": {
          "base_uri": "https://localhost:8080/"
        },
        "id": "PHj6mB57JN9I",
        "outputId": "86625ab9-b29e-4027-8f29-8e37297514b0"
      },
      "outputs": [
        {
          "name": "stdout",
          "output_type": "stream",
          "text": [
            "[1, 2, 3, 4, 5, 6, 7, 8, 9, 10, 11, 12]\n"
          ]
        }
      ],
      "source": [
        "power_cap = (912.0 + 1045.0) * 10.0\n",
        "Q_arr = []\n",
        "def hydropower(wl, month):\n",
        "  Q = 0.104 # Can be predicted by month\n",
        "  g = 9.8\n",
        "  return 0.9 * Q * g * wl"
      ]
    },
    {
      "cell_type": "code",
      "execution_count": 108,
      "metadata": {
        "id": "iQ9nfk7FJ0jj"
      },
      "outputs": [],
      "source": [
        "def navigation(wl):\n",
        "\n",
        "  return (wl - 74.8) * 10"
      ]
    },
    {
      "cell_type": "code",
      "execution_count": 49,
      "metadata": {
        "id": "8XY9HxpcJSAT"
      },
      "outputs": [],
      "source": [
        "def envir(wl, month):\n",
        "  return 0"
      ]
    },
    {
      "cell_type": "markdown",
      "metadata": {
        "id": "VZBCKLL8JPqH"
      },
      "source": [
        "# Calculating the optimal water level"
      ]
    },
    {
      "cell_type": "code",
      "execution_count": 157,
      "metadata": {
        "id": "4idRym82Nr1F"
      },
      "outputs": [],
      "source": [
        "months = [i + 1 for i in range(12)]"
      ]
    },
    {
      "cell_type": "code",
      "execution_count": 151,
      "metadata": {
        "id": "jV4sWYEt4gyt"
      },
      "outputs": [],
      "source": [
        "# Constants in the constraints can be replaced by functions in the previous section\n",
        "\n",
        "def Optwl(months):\n",
        "    \"\"\"Linear programming sample.\"\"\"\n",
        "    # Instantiate a Glop solver, naming it LinearExample.\n",
        "    solver = pywraplp.Solver.CreateSolver(\"GLOP\")\n",
        "    if not solver:\n",
        "        return\n",
        "\n",
        "    # Water level\n",
        "    wl = solver.NumVar(0, solver.infinity(), \"water level\")\n",
        "    # y = solver.NumVar(0, solver.infinity(), \"y\")\n",
        "\n",
        "    print(\"Number of variables =\", solver.NumVariables())\n",
        "\n",
        "    # Constraints of water level:\n",
        "    solver.Add(wl >= 73.0)\n",
        "    solver.Add(wl <= 77.0)\n",
        "\n",
        "    # Constraints of house owners:\n",
        "    solver.Add(house_owner1(wl) >= -1.0)\n",
        "    solver.Add(house_owner2(wl) >= -10)\n",
        "\n",
        "    # Constraints of boaters:\n",
        "    solver.Add(boating_1(wl) >= -5)\n",
        "    solver.Add(boating_2(wl) >= -5)\n",
        "\n",
        "    # Constraints of hydropower stations:\n",
        "    solver.Add(hydropower(wl, 1) <= power_cap)\n",
        "    solver.Add(hydropower(wl, 1) >= 30)\n",
        "\n",
        "    # Constraints of shipping:\n",
        "    solver.Add(navigation(wl) >= -7)\n",
        "\n",
        "    print(\"Number of constraints =\", solver.NumConstraints())\n",
        "\n",
        "    # Objective function:\n",
        "    solver.Maximize(0.3 * house_owner1(wl) + 0.1 * house_owner2(wl) + 0.3 * hydropower(wl, 1) + 0.2 * navigation(wl) + 0.1 * (boating_1(wl) + boating_2(wl)))\n",
        "\n",
        "    # Solve the system.\n",
        "    print(f\"Solving with {solver.SolverVersion()}\")\n",
        "    status = solver.Solve()\n",
        "\n",
        "    if status == pywraplp.Solver.OPTIMAL:\n",
        "        print(\"Solution:\")\n",
        "        print(f\"Objective value = {solver.Objective().Value()}\")\n",
        "        print(f\"Water level = {wl.solution_value()}m\")\n",
        "        #print(f\"y = {y.solution_value()}\")\n",
        "    else:\n",
        "        print(\"The problem does not have an optimal solution.\")\n",
        "\n",
        "    print(\"\\nAdvanced usage:\")\n",
        "    print(f\"Problem solved in {solver.wall_time():d} milliseconds\")\n",
        "    print(f\"Problem solved in {solver.iterations():d} iterations\")"
      ]
    },
    {
      "cell_type": "code",
      "execution_count": 152,
      "metadata": {
        "colab": {
          "base_uri": "https://localhost:8080/"
        },
        "id": "QgM-lznG4pnj",
        "outputId": "072be6fb-4215-41d8-8af0-40188a530db3"
      },
      "outputs": [
        {
          "name": "stdout",
          "output_type": "stream",
          "text": [
            "Number of variables = 1\n",
            "Number of constraints = 8\n",
            "Solving with Glop solver v9.8.3296\n",
            "Solution:\n",
            "Objective value = 24.611134400000022\n",
            "Water level = 74.1m\n",
            "\n",
            "Advanced usage:\n",
            "Problem solved in 5 milliseconds\n",
            "Problem solved in 0 iterations\n"
          ]
        }
      ],
      "source": [
        "Optwl(months)"
      ]
    }
  ],
  "metadata": {
    "colab": {
      "provenance": []
    },
    "kernelspec": {
      "display_name": "Python 3",
      "name": "python3"
    },
    "language_info": {
      "codemirror_mode": {
        "name": "ipython",
        "version": 3
      },
      "file_extension": ".py",
      "mimetype": "text/x-python",
      "name": "python",
      "nbconvert_exporter": "python",
      "pygments_lexer": "ipython3",
      "version": "3.9.6"
    }
  },
  "nbformat": 4,
  "nbformat_minor": 0
}
